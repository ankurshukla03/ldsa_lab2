{
 "cells": [
  {
   "cell_type": "code",
   "execution_count": 1,
   "metadata": {},
   "outputs": [],
   "source": [
    "from pyspark import SparkContext, SparkConf\n",
    "\n",
    "conf = SparkConf().setAppName(\"WordCount\").setMaster(\"local\")\n",
    "sc = SparkContext(conf=conf)"
   ]
  },
  {
   "cell_type": "markdown",
   "metadata": {},
   "source": [
    "# WordCount\n",
    "Wordcount and printing the first 10 most frequent letters"
   ]
  },
  {
   "cell_type": "code",
   "execution_count": 2,
   "metadata": {},
   "outputs": [],
   "source": [
    "def countwords(path):\n",
    "    rdd = sc.textFile(path)\n",
    "    wordcounts=rdd.flatMap(lambda l: l.split(' ')) \\\n",
    "        .map(lambda w:(w,1)) \\\n",
    "        .reduceByKey(lambda a,b:a+b) \\\n",
    "        .sortBy(lambda x: -x[1])\n",
    "    no_ofwords = 0\n",
    "    output = wordcounts.collect()\n",
    "    for (word,count) in output:\n",
    "        if(no_ofwords <10):\n",
    "            print(\"%s: %i\" % (word,count))\n",
    "            no_ofwords = no_ofwords + 1\n",
    "        \n",
    "def print_rdd(output):\n",
    "    for (count,word) in output:\n",
    "        print(\"%s: %i\" % (word,count))"
   ]
  },
  {
   "cell_type": "code",
   "execution_count": 3,
   "metadata": {},
   "outputs": [
    {
     "name": "stdout",
     "output_type": "stream",
     "text": [
      "----English Words---------\n",
      "the: 698563\n",
      "of: 362452\n",
      "to: 326291\n",
      "and: 293700\n",
      "in: 222084\n",
      "a: 162764\n",
      "is: 157336\n",
      "that: 155812\n",
      "for: 119429\n",
      "I: 108253\n",
      "----Bulgarian Words---------\n",
      "на: 601613\n",
      "да: 329446\n",
      "и: 324917\n",
      "за: 255154\n",
      "в: 212116\n",
      "от: 165083\n",
      "се: 150472\n",
      "е: 129671\n",
      "че: 114131\n",
      "с: 92364\n"
     ]
    }
   ],
   "source": [
    "patheng = 'europarl-v7.bg-en.en'\n",
    "pathbg = 'europarl-v7.bg-en.bg'\n",
    "\n",
    "print('----English Words---------')\n",
    "countwords(patheng)\n",
    "print('----Bulgarian Words---------')\n",
    "countwords(pathbg)\n"
   ]
  },
  {
   "cell_type": "code",
   "execution_count": 4,
   "metadata": {},
   "outputs": [],
   "source": [
    "sc.stop()"
   ]
  }
 ],
 "metadata": {
  "kernelspec": {
   "display_name": "Python 3",
   "language": "python",
   "name": "python3"
  },
  "language_info": {
   "codemirror_mode": {
    "name": "ipython",
    "version": 3
   },
   "file_extension": ".py",
   "mimetype": "text/x-python",
   "name": "python",
   "nbconvert_exporter": "python",
   "pygments_lexer": "ipython3",
   "version": "3.6.4"
  }
 },
 "nbformat": 4,
 "nbformat_minor": 2
}
