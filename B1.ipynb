{
 "cells": [
  {
   "cell_type": "markdown",
   "metadata": {},
   "source": [
    "# Analysis with DataFrames / SQL\n",
    "Analysis with DataFrames / SQL"
   ]
  },
  {
   "cell_type": "code",
   "execution_count": 71,
   "metadata": {},
   "outputs": [],
   "source": [
    "from pyspark.sql import SparkSession\n",
    "from pyspark.sql.types import *\n",
    "\n",
    "spark = SparkSession.builder \\\n",
    "         .master(\"local\") \\\n",
    "         .appName(\"DataFrame\") \\\n",
    "         .config(\"spark.some.config.option\", \"some-value\") \\\n",
    "         .getOrCreate()\n",
    "        \n",
    "sc = spark.sparkContext"
   ]
  },
  {
   "cell_type": "markdown",
   "metadata": {},
   "source": [
    "B.1.1 Which organization has the largest gender pay gap? Which the least?"
   ]
  },
  {
   "cell_type": "code",
   "execution_count": 72,
   "metadata": {},
   "outputs": [],
   "source": [
    "from pyspark.sql.types import *\n",
    "\n",
    "df = spark.read.csv('data_pp.csv', header=True, inferSchema=True)\n"
   ]
  },
  {
   "cell_type": "markdown",
   "metadata": {},
   "source": [
    "Schema of dataframe"
   ]
  },
  {
   "cell_type": "code",
   "execution_count": 73,
   "metadata": {},
   "outputs": [
    {
     "name": "stdout",
     "output_type": "stream",
     "text": [
      "root\n",
      " |-- EmployerName: string (nullable = true)\n",
      " |-- Address: string (nullable = true)\n",
      " |-- CompanyNumber: string (nullable = true)\n",
      " |-- SicCodes: decimal(35,0) (nullable = true)\n",
      " |-- DiffMeanHourlyPercent: double (nullable = true)\n",
      " |-- DiffMedianHourlyPercent: double (nullable = true)\n",
      " |-- DiffMeanBonusPercent: double (nullable = true)\n",
      " |-- DiffMedianBonusPercent: double (nullable = true)\n",
      " |-- MaleBonusPercent: double (nullable = true)\n",
      " |-- FemaleBonusPercent: double (nullable = true)\n",
      " |-- MaleLowerQuartile: double (nullable = true)\n",
      " |-- FemaleLowerQuartile: double (nullable = true)\n",
      " |-- MaleLowerMiddleQuartile: double (nullable = true)\n",
      " |-- FemaleLowerMiddleQuartile: double (nullable = true)\n",
      " |-- MaleUpperMiddleQuartile: double (nullable = true)\n",
      " |-- FemaleUpperMiddleQuartile: double (nullable = true)\n",
      " |-- MaleTopQuartile: double (nullable = true)\n",
      " |-- FemaleTopQuartile: double (nullable = true)\n",
      " |-- CompanyLinkToGPGInfo: string (nullable = true)\n",
      " |-- ResponsiblePerson: string (nullable = true)\n",
      " |-- EmployerSize: string (nullable = true)\n",
      " |-- CurrentName: string (nullable = true)\n",
      " |-- SubmittedAfterTheDeadline: boolean (nullable = true)\n",
      "\n"
     ]
    }
   ],
   "source": [
    "from pyspark.sql import functions as F\n",
    "df.printSchema()"
   ]
  },
  {
   "cell_type": "code",
   "execution_count": 74,
   "metadata": {},
   "outputs": [
    {
     "name": "stdout",
     "output_type": "stream",
     "text": [
      "[Row(max(abs(DiffMeanHourlyPercent))=400.0)]\n",
      "[Row(min(abs(DiffMeanHourlyPercent))=0.0)]\n",
      "[Row(EmployerName='COMPLETECAREHOLDINGSLIMITED', abs(DiffMeanHourlyPercent)=400.0)]\n",
      "81\n"
     ]
    },
    {
     "data": {
      "text/plain": [
       "[Row(avg(DiffMeanHourlyPercent)=14.298103136021377)]"
      ]
     },
     "execution_count": 74,
     "metadata": {},
     "output_type": "execute_result"
    }
   ],
   "source": [
    "df1 = df.selectExpr(\"EmployerName\",\"abs(DiffMeanHourlyPercent)\")\n",
    "\n",
    "#getting the max difference between hourlepercent\n",
    "print(df1.agg({\"abs(DiffMeanHourlyPercent)\": \"max\"}).collect())\n",
    "print(df1.agg({\"abs(DiffMeanHourlyPercent)\": \"min\"}).collect())\n",
    "\n",
    "print(df1.where(\"abs(DiffMeanHourlyPercent)==400.0\").collect())\n",
    "print(df.where(\"abs(DiffMeanHourlyPercent)==0.0\").count())\n",
    "\n",
    "#for calculating avg of mean gender pay gap\n",
    "df.groupBy().avg('DiffMeanHourlyPercent').collect()"
   ]
  },
  {
   "cell_type": "code",
   "execution_count": 75,
   "metadata": {},
   "outputs": [
    {
     "data": {
      "text/plain": [
       "10491"
      ]
     },
     "execution_count": 75,
     "metadata": {},
     "output_type": "execute_result"
    }
   ],
   "source": [
    "#getting the total no of rows\n",
    "df.count()"
   ]
  },
  {
   "cell_type": "code",
   "execution_count": 76,
   "metadata": {},
   "outputs": [],
   "source": [
    "#df.createOrReplaceTempView(\"tallysheet\")\n",
    "df.createOrReplaceTempView(\"Table\")"
   ]
  },
  {
   "cell_type": "code",
   "execution_count": 23,
   "metadata": {},
   "outputs": [
    {
     "data": {
      "text/plain": [
       "1"
      ]
     },
     "execution_count": 23,
     "metadata": {},
     "output_type": "execute_result"
    }
   ],
   "source": [
    "df.rdd.getNumPartitions()"
   ]
  },
  {
   "cell_type": "code",
   "execution_count": 77,
   "metadata": {},
   "outputs": [],
   "source": [
    "my_map = dict([('AGRICULTURE FORESTRY AND FISHING', (1,3)), ('MINING AND QUARRYING', (5,9)), ('MANUFACTURING', (10,33)),\n",
    "      ('ELECTRICITY GAS STEAM AND AIR CONDITIONING SUPPLY',(35,35)),('WATER SUPPLY SEWERAGE WASTE MANAGEMENT AND REMEDIATION ACTIVITIES',(36,39))\n",
    "     ,('CONSTRUCTION',(41,43)),('WHOLESALE AND RETAIL TRADE REPAIR OF MOTOR VEHICLES AND MOTORCYCLES',(45,47)),\n",
    "      ('TRANSPORTATION AND STORAGE',(49,53)),('ACCOMMODATION AND FOOD SERVICE ACTIVITIES',(55,56)),\n",
    "     ('INFORMATION AND COMMUNICATION',(58,63)),('FINANCIAL AND INSURANCE ACTIVITIES',(64,66))\n",
    "     ,('REAL ESTATE ACTIVITIES',(68,68)),('PROFESSIONAL SCIENTIFIC AND TECHNICAL ACTIVITIES',(69,75)),\n",
    "     ('ADMINISTRATIVE AND SUPPORT SERVICE ACTIVITIES',(77,82)),('PUBLIC ADMINISTRATION AND DEFENCE COMPULSORY SOCIAL SECURITY',(84,84)),\n",
    "     ('EDUCATION',(85,85)),('HUMAN HEALTH AND SOCIAL WORK ACTIVITIES',(86,88)),('ARTS ENTERTAINMENT AND RECREATION',(90,93)),\n",
    "     ('OTHER SERVICE ACTIVITIES',(94,96)),\n",
    "    ('ACTIVITIES OF HOUSEHOLDS AS EMPLOYERS UNDIFFERENTIATED GOODS-AND SERVICES-PRODUCING ACTIVITIES OF HOUSEHOLDS FOR OWN USE',(97,98)),\n",
    "     ('ACTIVITIES OF EXTRATERRITORIAL ORGANISATIONS AND BODIES',(99,99))])\n",
    "inv_map = {v: k for k, v in my_map.items()}\n",
    "inv_map\n",
    "# Immutable data for all workers\n",
    "broadcast_variable = sc.broadcast(inv_map)"
   ]
  },
  {
   "cell_type": "code",
   "execution_count": 129,
   "metadata": {},
   "outputs": [
    {
     "ename": "KeyError",
     "evalue": "0",
     "output_type": "error",
     "traceback": [
      "\u001b[0;31m---------------------------------------------------------------------------\u001b[0m",
      "\u001b[0;31mKeyError\u001b[0m                                  Traceback (most recent call last)",
      "\u001b[0;32m<ipython-input-129-862f25d41f13>\u001b[0m in \u001b[0;36m<module>\u001b[0;34m()\u001b[0m\n\u001b[0;32m----> 1\u001b[0;31m \u001b[0mbroadcast_variable\u001b[0m\u001b[0;34m.\u001b[0m\u001b[0mvalue\u001b[0m\u001b[0;34m[\u001b[0m\u001b[0;36m0\u001b[0m\u001b[0;34m]\u001b[0m\u001b[0;34m\u001b[0m\u001b[0m\n\u001b[0m",
      "\u001b[0;31mKeyError\u001b[0m: 0"
     ]
    }
   ],
   "source": [
    "broadcast_variable.value[0]"
   ]
  },
  {
   "cell_type": "code",
   "execution_count": 78,
   "metadata": {},
   "outputs": [
    {
     "data": {
      "text/plain": [
       "dict_keys([(97, 98), (5, 9), (36, 39), (1, 3), (99, 99), (86, 88), (69, 75), (85, 85), (90, 93), (68, 68), (45, 47), (58, 63), (49, 53), (41, 43), (77, 82), (10, 33), (84, 84), (94, 96), (55, 56), (64, 66), (35, 35)])"
      ]
     },
     "execution_count": 78,
     "metadata": {},
     "output_type": "execute_result"
    }
   ],
   "source": [
    "inv_map.keys()"
   ]
  },
  {
   "cell_type": "code",
   "execution_count": 79,
   "metadata": {},
   "outputs": [
    {
     "data": {
      "text/plain": [
       "9575"
      ]
     },
     "execution_count": 79,
     "metadata": {},
     "output_type": "execute_result"
    }
   ],
   "source": [
    "df2 = spark.sql(\"select * from Table where SicCodes != 1 \")\n",
    "df2.count()"
   ]
  },
  {
   "cell_type": "code",
   "execution_count": 80,
   "metadata": {},
   "outputs": [
    {
     "name": "stdout",
     "output_type": "stream",
     "text": [
      "+---------------+\n",
      "|   SicCodes_Str|\n",
      "+---------------+\n",
      "|          85310|\n",
      "|          47730|\n",
      "|          61900|\n",
      "|          78300|\n",
      "|          93110|\n",
      "|     5621070229|\n",
      "|931109313093290|\n",
      "|     8690088100|\n",
      "|          56290|\n",
      "|      147010910|\n",
      "|          10120|\n",
      "|          10120|\n",
      "|          10110|\n",
      "|          82200|\n",
      "|          56103|\n",
      "|          52290|\n",
      "|          78200|\n",
      "|         186210|\n",
      "|          81210|\n",
      "|          52290|\n",
      "+---------------+\n",
      "only showing top 20 rows\n",
      "\n"
     ]
    }
   ],
   "source": [
    "#changing the column type of sicodes from decimal to string\n",
    "\n",
    "from pyspark.sql.types import StringType\n",
    "\n",
    "df2 = df2.withColumn(\"SicCodes_Str\", df[\"SicCodes\"].cast(StringType()))\n",
    "\n",
    "#df5.select(df5.SicCodes.cast(StringType()).alias('SicCodes_String'))\n",
    "df2.select('SicCodes_Str').show()"
   ]
  },
  {
   "cell_type": "code",
   "execution_count": 81,
   "metadata": {},
   "outputs": [
    {
     "name": "stdout",
     "output_type": "stream",
     "text": [
      "+---------------+------------+\n",
      "|   SicCodes_Str|SicSector_No|\n",
      "+---------------+------------+\n",
      "|          85310|          85|\n",
      "|          47730|          47|\n",
      "|          61900|          61|\n",
      "|          78300|          78|\n",
      "|          93110|          93|\n",
      "|     5621070229|          56|\n",
      "|931109313093290|          93|\n",
      "|     8690088100|          86|\n",
      "|          56290|          56|\n",
      "|      147010910|          14|\n",
      "|          10120|          10|\n",
      "|          10120|          10|\n",
      "|          10110|          10|\n",
      "|          82200|          82|\n",
      "|          56103|          56|\n",
      "|          52290|          52|\n",
      "|          78200|          78|\n",
      "|         186210|          18|\n",
      "|          81210|          81|\n",
      "|          52290|          52|\n",
      "+---------------+------------+\n",
      "only showing top 20 rows\n",
      "\n"
     ]
    }
   ],
   "source": [
    "#creating a new column where to keep the first two digits from the SicCodes as int\n",
    "import pyspark\n",
    "from pyspark.sql.functions import udf\n",
    "from pyspark.sql.types import StringType\n",
    "from pyspark.sql.types import IntegerType\n",
    "\n",
    "def SicCodes_int(SicCodes_Str):\n",
    "    if SicCodes_Str is not None:\n",
    "        return SicCodes_Str[:2]\n",
    "  \n",
    "\n",
    "udf_SicCode = udf(SicCodes_int, StringType())\n",
    "\n",
    "\n",
    "df2 = df2.withColumn(\"SicSector_No\",udf_SicCode(\"SicCodes_Str\"))\n",
    "\n",
    "df2=df2.withColumn(\"SicSector_No\", df2[\"SicSector_No\"].cast(IntegerType()))\n",
    "df2.select('SicCodes_Str','SicSector_No').show()"
   ]
  },
  {
   "cell_type": "code",
   "execution_count": 82,
   "metadata": {},
   "outputs": [
    {
     "name": "stdout",
     "output_type": "stream",
     "text": [
      "root\n",
      " |-- EmployerName: string (nullable = true)\n",
      " |-- Address: string (nullable = true)\n",
      " |-- CompanyNumber: string (nullable = true)\n",
      " |-- SicCodes: decimal(35,0) (nullable = true)\n",
      " |-- DiffMeanHourlyPercent: double (nullable = true)\n",
      " |-- DiffMedianHourlyPercent: double (nullable = true)\n",
      " |-- DiffMeanBonusPercent: double (nullable = true)\n",
      " |-- DiffMedianBonusPercent: double (nullable = true)\n",
      " |-- MaleBonusPercent: double (nullable = true)\n",
      " |-- FemaleBonusPercent: double (nullable = true)\n",
      " |-- MaleLowerQuartile: double (nullable = true)\n",
      " |-- FemaleLowerQuartile: double (nullable = true)\n",
      " |-- MaleLowerMiddleQuartile: double (nullable = true)\n",
      " |-- FemaleLowerMiddleQuartile: double (nullable = true)\n",
      " |-- MaleUpperMiddleQuartile: double (nullable = true)\n",
      " |-- FemaleUpperMiddleQuartile: double (nullable = true)\n",
      " |-- MaleTopQuartile: double (nullable = true)\n",
      " |-- FemaleTopQuartile: double (nullable = true)\n",
      " |-- CompanyLinkToGPGInfo: string (nullable = true)\n",
      " |-- ResponsiblePerson: string (nullable = true)\n",
      " |-- EmployerSize: string (nullable = true)\n",
      " |-- CurrentName: string (nullable = true)\n",
      " |-- SubmittedAfterTheDeadline: boolean (nullable = true)\n",
      " |-- SicSector_No: integer (nullable = true)\n",
      "\n"
     ]
    }
   ],
   "source": [
    "#df_Sic_int is the last and final dataframe to have first two digits of SicCodes as int\n",
    "df2 = df2.drop('SicCodes_Str')\n",
    "df2.printSchema()"
   ]
  },
  {
   "cell_type": "code",
   "execution_count": 111,
   "metadata": {},
   "outputs": [
    {
     "name": "stdout",
     "output_type": "stream",
     "text": [
      "+------------+--------------------+\n",
      "|SicSector_No|      SicSector_Name|\n",
      "+------------+--------------------+\n",
      "|          85|           EDUCATION|\n",
      "|          47|WHOLESALE AND RET...|\n",
      "|          61|INFORMATION AND C...|\n",
      "|          78|ADMINISTRATIVE AN...|\n",
      "|          93|ARTS ENTERTAINMEN...|\n",
      "|          56|ACCOMMODATION AND...|\n",
      "|          93|ARTS ENTERTAINMEN...|\n",
      "|          86|HUMAN HEALTH AND ...|\n",
      "|          56|ACCOMMODATION AND...|\n",
      "|          14|       MANUFACTURING|\n",
      "|          10|       MANUFACTURING|\n",
      "|          10|       MANUFACTURING|\n",
      "|          10|       MANUFACTURING|\n",
      "|          82|ADMINISTRATIVE AN...|\n",
      "|          56|ACCOMMODATION AND...|\n",
      "|          52|TRANSPORTATION AN...|\n",
      "|          78|ADMINISTRATIVE AN...|\n",
      "|          18|       MANUFACTURING|\n",
      "|          81|ADMINISTRATIVE AN...|\n",
      "|          52|TRANSPORTATION AN...|\n",
      "+------------+--------------------+\n",
      "only showing top 20 rows\n",
      "\n",
      "root\n",
      " |-- EmployerName: string (nullable = true)\n",
      " |-- Address: string (nullable = true)\n",
      " |-- CompanyNumber: string (nullable = true)\n",
      " |-- SicCodes: decimal(35,0) (nullable = true)\n",
      " |-- DiffMeanHourlyPercent: double (nullable = true)\n",
      " |-- DiffMedianHourlyPercent: double (nullable = true)\n",
      " |-- DiffMeanBonusPercent: double (nullable = true)\n",
      " |-- DiffMedianBonusPercent: double (nullable = true)\n",
      " |-- MaleBonusPercent: double (nullable = true)\n",
      " |-- FemaleBonusPercent: double (nullable = true)\n",
      " |-- MaleLowerQuartile: double (nullable = true)\n",
      " |-- FemaleLowerQuartile: double (nullable = true)\n",
      " |-- MaleLowerMiddleQuartile: double (nullable = true)\n",
      " |-- FemaleLowerMiddleQuartile: double (nullable = true)\n",
      " |-- MaleUpperMiddleQuartile: double (nullable = true)\n",
      " |-- FemaleUpperMiddleQuartile: double (nullable = true)\n",
      " |-- MaleTopQuartile: double (nullable = true)\n",
      " |-- FemaleTopQuartile: double (nullable = true)\n",
      " |-- CompanyLinkToGPGInfo: string (nullable = true)\n",
      " |-- ResponsiblePerson: string (nullable = true)\n",
      " |-- EmployerSize: string (nullable = true)\n",
      " |-- CurrentName: string (nullable = true)\n",
      " |-- SubmittedAfterTheDeadline: boolean (nullable = true)\n",
      " |-- SicSector_No: integer (nullable = true)\n",
      " |-- SicSector_Name: string (nullable = true)\n",
      "\n"
     ]
    }
   ],
   "source": [
    "#creating a new column where to keep the first two digits from the SicCodes as int\n",
    "from pyspark.sql.functions import udf\n",
    "from pyspark.sql.types import StringType\n",
    "\n",
    "def SicCodes_name(SicSector_No):\n",
    "    if SicSector_No >= 10 and SicSector_No <=33:\n",
    "        return broadcast_variable.value[(10,33)]\n",
    "    elif SicSector_No == 35:\n",
    "        return broadcast_variable.value[(35,35)]\n",
    "    elif SicSector_No >= 36 and SicSector_No <=39:\n",
    "        return broadcast_variable.value[(36,39)]\n",
    "    elif SicSector_No >= 41 and SicSector_No <=43:\n",
    "        return broadcast_variable.value[(41,43)]\n",
    "    elif SicSector_No >= 45 and SicSector_No <=47:\n",
    "        return broadcast_variable.value[(45,47)]\n",
    "    elif SicSector_No >= 49 and SicSector_No <=53:\n",
    "        return broadcast_variable.value[(49,53)]\n",
    "    elif SicSector_No >= 55 and SicSector_No <=56:\n",
    "        return broadcast_variable.value[(55,56)]\n",
    "    elif SicSector_No >= 58 and SicSector_No <=63:\n",
    "        return broadcast_variable.value[(58,63)]\n",
    "    elif SicSector_No >= 64 and SicSector_No <=66:\n",
    "        return broadcast_variable.value[(64,66)]\n",
    "    elif SicSector_No == 68:\n",
    "        return broadcast_variable.value[(68,68)]\n",
    "    elif SicSector_No >= 69 and SicSector_No <=75:\n",
    "        return broadcast_variable.value[(69,75)]\n",
    "    elif SicSector_No >= 77 and SicSector_No <=82:\n",
    "        return broadcast_variable.value[(77,82)]\n",
    "    elif SicSector_No == 84:\n",
    "        return broadcast_variable.value[(84,84)]\n",
    "    elif SicSector_No == 85:\n",
    "        return broadcast_variable.value[(85,85)]\n",
    "    elif SicSector_No >= 86 and SicSector_No <=88:\n",
    "        return broadcast_variable.value[(86,88)]\n",
    "    elif SicSector_No >= 90 and SicSector_No <=93:\n",
    "        return broadcast_variable.value[(90,93)]\n",
    "    elif SicSector_No >= 94 and SicSector_No <=96:\n",
    "        return broadcast_variable.value[(94,96)]\n",
    "    elif SicSector_No >= 97 and SicSector_No <=98:\n",
    "        return broadcast_variable.value[(97,98)]\n",
    "    elif SicSector_No == 99:\n",
    "        return broadcast_variable.value[(99,99)]\n",
    "\n",
    "udf_SicCodes_name = udf(SicCodes_name, StringType())\n",
    "\n",
    "\n",
    "df2 = df2.withColumn(\"SicSector_Name\",udf_SicCodes_name(\"SicSector_No\"))\n",
    "\n",
    "df2.select('SicSector_No','SicSector_Name').show()\n",
    "df2.printSchema()"
   ]
  },
  {
   "cell_type": "code",
   "execution_count": 147,
   "metadata": {},
   "outputs": [
    {
     "name": "stdout",
     "output_type": "stream",
     "text": [
      "+--------------------+--------------------------+\n",
      "|      SicSector_Name|avg(DiffMeanHourlyPercent)|\n",
      "+--------------------+--------------------------+\n",
      "|ADMINISTRATIVE AN...|        11.247895622895628|\n",
      "|ELECTRICITY GAS S...|        14.785185185185187|\n",
      "|        CONSTRUCTION|        21.707570977917985|\n",
      "|TRANSPORTATION AN...|        10.276178010471213|\n",
      "|WHOLESALE AND RET...|        14.928056112224441|\n",
      "|PUBLIC ADMINISTRA...|         9.176190476190477|\n",
      "|ARTS ENTERTAINMEN...|         21.06199999999999|\n",
      "|OTHER SERVICE ACT...|         12.46292682926829|\n",
      "|FINANCIAL AND INS...|        26.421882951653938|\n",
      "|           EDUCATION|        11.730219780219784|\n",
      "|ACTIVITIES OF EXT...|         9.944444444444445|\n",
      "|HUMAN HEALTH AND ...|         6.588755622188904|\n",
      "|ACCOMMODATION AND...|        7.8681318681318615|\n",
      "|WATER SUPPLY SEWE...|         7.499999999999998|\n",
      "|PROFESSIONAL SCIE...|        18.491334250343872|\n",
      "|       MANUFACTURING|        14.340364298724948|\n",
      "|REAL ESTATE ACTIV...|        16.024799999999995|\n",
      "|ACTIVITIES OF HOU...|         3.133333333333333|\n",
      "|INFORMATION AND C...|        19.658086560364485|\n",
      "+--------------------+--------------------------+\n",
      "\n"
     ]
    }
   ],
   "source": [
    "#counting genderpay gap for one industry sector and then we can do it for the rest of the industry\n",
    "df3 = df2.filter(df2.SicSector_Name.isNotNull())\n",
    "df3.groupBy(df3.SicSector_Name).avg('DiffMeanHourlyPercent').show()"
   ]
  },
  {
   "cell_type": "code",
   "execution_count": 148,
   "metadata": {},
   "outputs": [
    {
     "name": "stdout",
     "output_type": "stream",
     "text": [
      "+--------------------+----------------------------+\n",
      "|      SicSector_Name|avg(DiffMedianHourlyPercent)|\n",
      "+--------------------+----------------------------+\n",
      "|ADMINISTRATIVE AN...|           9.256228956228956|\n",
      "|ELECTRICITY GAS S...|          15.651851851851852|\n",
      "|        CONSTRUCTION|          23.757413249211364|\n",
      "|TRANSPORTATION AN...|           9.660732984293192|\n",
      "|WHOLESALE AND RET...|           7.907314629258507|\n",
      "|PUBLIC ADMINISTRA...|           9.785714285714286|\n",
      "|ARTS ENTERTAINMEN...|           6.594666666666666|\n",
      "|OTHER SERVICE ACT...|           9.334634146341465|\n",
      "|FINANCIAL AND INS...|          22.449363867684472|\n",
      "|           EDUCATION|          13.661538461538465|\n",
      "|ACTIVITIES OF EXT...|           6.022222222222222|\n",
      "|HUMAN HEALTH AND ...|           2.843178410794602|\n",
      "|ACCOMMODATION AND...|           3.743589743589742|\n",
      "|WATER SUPPLY SEWE...|           8.059420289855073|\n",
      "|PROFESSIONAL SCIE...|          14.778541953232475|\n",
      "|       MANUFACTURING|           13.76746812386155|\n",
      "|REAL ESTATE ACTIV...|          11.603200000000003|\n",
      "|ACTIVITIES OF HOU...|         0.19999999999999998|\n",
      "|INFORMATION AND C...|           17.76947608200456|\n",
      "+--------------------+----------------------------+\n",
      "\n"
     ]
    }
   ],
   "source": [
    "#diff median\n",
    "df3.groupBy(df3.SicSector_Name).avg('DiffMedianHourlyPercent').show()"
   ]
  },
  {
   "cell_type": "code",
   "execution_count": 149,
   "metadata": {},
   "outputs": [
    {
     "name": "stdout",
     "output_type": "stream",
     "text": [
      "+--------------------+-------------------------+\n",
      "|      SicSector_Name|avg(DiffMeanBonusPercent)|\n",
      "+--------------------+-------------------------+\n",
      "|ADMINISTRATIVE AN...|        7.882744107744111|\n",
      "|ELECTRICITY GAS S...|       27.094444444444434|\n",
      "|        CONSTRUCTION|        27.95173501577289|\n",
      "|TRANSPORTATION AN...|         13.2479057591623|\n",
      "|WHOLESALE AND RET...|       -50.14178356713425|\n",
      "|PUBLIC ADMINISTRA...|       18.576190476190476|\n",
      "|ARTS ENTERTAINMEN...|                   27.685|\n",
      "|OTHER SERVICE ACT...|        17.52731707317074|\n",
      "|FINANCIAL AND INS...|        47.30254452926211|\n",
      "|           EDUCATION|      -15.838461538461546|\n",
      "|ACTIVITIES OF EXT...|       24.166666666666668|\n",
      "|HUMAN HEALTH AND ...|      -7.9389805097451305|\n",
      "|ACCOMMODATION AND...|       10.840659340659341|\n",
      "|WATER SUPPLY SEWE...|        9.556521739130435|\n",
      "|PROFESSIONAL SCIE...|        32.17345254470423|\n",
      "|       MANUFACTURING|        8.211256830601098|\n",
      "|REAL ESTATE ACTIV...|       23.070399999999996|\n",
      "|ACTIVITIES OF HOU...|       16.366666666666667|\n",
      "|INFORMATION AND C...|       36.181321184510274|\n",
      "+--------------------+-------------------------+\n",
      "\n"
     ]
    }
   ],
   "source": [
    "#diff mean bonus percent\n",
    "df3.groupBy(df3.SicSector_Name).avg('DiffMeanBonusPercent').show()"
   ]
  },
  {
   "cell_type": "code",
   "execution_count": 150,
   "metadata": {},
   "outputs": [
    {
     "name": "stdout",
     "output_type": "stream",
     "text": [
      "+--------------------+---------------------------+\n",
      "|      SicSector_Name|avg(DiffMedianBonusPercent)|\n",
      "+--------------------+---------------------------+\n",
      "|ADMINISTRATIVE AN...|         1.1228956228956166|\n",
      "|ELECTRICITY GAS S...|         22.235185185185188|\n",
      "|        CONSTRUCTION|          -2.83312302839117|\n",
      "|TRANSPORTATION AN...|         -35.23979057591623|\n",
      "|WHOLESALE AND RET...|         -51.30641282565135|\n",
      "|PUBLIC ADMINISTRA...|          18.89761904761905|\n",
      "|ARTS ENTERTAINMEN...|         -21.37633333333334|\n",
      "|OTHER SERVICE ACT...|         -4.016585365853658|\n",
      "|FINANCIAL AND INS...|         12.706615776081417|\n",
      "|           EDUCATION|        -13.298351648351646|\n",
      "|ACTIVITIES OF EXT...|         12.266666666666667|\n",
      "|HUMAN HEALTH AND ...|        -3.0916041979010487|\n",
      "|ACCOMMODATION AND...|        -15.151648351648364|\n",
      "|WATER SUPPLY SEWE...|         -42.89999999999999|\n",
      "|PROFESSIONAL SCIE...|          13.30701513067399|\n",
      "|       MANUFACTURING|        -45.433734061930814|\n",
      "|REAL ESTATE ACTIV...|         12.811199999999996|\n",
      "|ACTIVITIES OF HOU...|                       10.0|\n",
      "|INFORMATION AND C...|        -3.3480637813211795|\n",
      "+--------------------+---------------------------+\n",
      "\n"
     ]
    }
   ],
   "source": [
    "#diff median bonus percent\n",
    "df3.groupBy(df3.SicSector_Name).avg('DiffMedianBonusPercent').show()"
   ]
  },
  {
   "cell_type": "code",
   "execution_count": 151,
   "metadata": {},
   "outputs": [
    {
     "name": "stdout",
     "output_type": "stream",
     "text": [
      "+--------------------+---------------------+\n",
      "|      SicSector_Name|avg(MaleBonusPercent)|\n",
      "+--------------------+---------------------+\n",
      "|ADMINISTRATIVE AN...|    34.22769360269361|\n",
      "|ELECTRICITY GAS S...|    65.00185185185184|\n",
      "|        CONSTRUCTION|    43.94132492113566|\n",
      "|TRANSPORTATION AN...|    42.71963350785341|\n",
      "|WHOLESALE AND RET...|    55.96883767535071|\n",
      "|PUBLIC ADMINISTRA...|    20.68095238095238|\n",
      "|ARTS ENTERTAINMEN...|   25.313000000000013|\n",
      "|OTHER SERVICE ACT...|     33.9019512195122|\n",
      "|FINANCIAL AND INS...|    67.39083969465649|\n",
      "|           EDUCATION|    7.634340659340661|\n",
      "|ACTIVITIES OF EXT...|    33.86666666666667|\n",
      "|HUMAN HEALTH AND ...|   12.083358320839592|\n",
      "|ACCOMMODATION AND...|   23.835897435897433|\n",
      "|WATER SUPPLY SEWE...|   55.343478260869574|\n",
      "|PROFESSIONAL SCIE...|    45.55103163686382|\n",
      "|       MANUFACTURING|   29.409981785063792|\n",
      "|REAL ESTATE ACTIV...|    38.63680000000001|\n",
      "|ACTIVITIES OF HOU...|    4.666666666666667|\n",
      "|INFORMATION AND C...|    60.89908883826881|\n",
      "+--------------------+---------------------+\n",
      "\n"
     ]
    }
   ],
   "source": [
    "#male bonus percent\n",
    "df3.groupBy(df3.SicSector_Name).avg('MaleBonusPercent').show()"
   ]
  },
  {
   "cell_type": "code",
   "execution_count": 152,
   "metadata": {},
   "outputs": [
    {
     "name": "stdout",
     "output_type": "stream",
     "text": [
      "+--------------------+-----------------------+\n",
      "|      SicSector_Name|avg(FemaleBonusPercent)|\n",
      "+--------------------+-----------------------+\n",
      "|ADMINISTRATIVE AN...|      33.87954545454545|\n",
      "|ELECTRICITY GAS S...|      65.11296296296298|\n",
      "|        CONSTRUCTION|      42.62208201892746|\n",
      "|TRANSPORTATION AN...|      38.60104712041888|\n",
      "|WHOLESALE AND RET...|     52.015531062124246|\n",
      "|PUBLIC ADMINISTRA...|     18.788095238095238|\n",
      "|ARTS ENTERTAINMEN...|     21.529999999999994|\n",
      "|OTHER SERVICE ACT...|      32.64536585365854|\n",
      "|FINANCIAL AND INS...|      65.39007633587785|\n",
      "|           EDUCATION|      8.581318681318681|\n",
      "|ACTIVITIES OF EXT...|     30.577777777777776|\n",
      "|HUMAN HEALTH AND ...|     13.225037481259365|\n",
      "|ACCOMMODATION AND...|     23.433699633699643|\n",
      "|WATER SUPPLY SEWE...|      50.18405797101449|\n",
      "|PROFESSIONAL SCIE...|      43.82420907840442|\n",
      "|       MANUFACTURING|     27.862659380692214|\n",
      "|REAL ESTATE ACTIV...|     36.521600000000014|\n",
      "|ACTIVITIES OF HOU...|     0.6333333333333334|\n",
      "|INFORMATION AND C...|      58.78883826879273|\n",
      "+--------------------+-----------------------+\n",
      "\n"
     ]
    }
   ],
   "source": [
    "#female bonus percent\n",
    "df3.groupBy(df3.SicSector_Name).avg('FemaleBonusPercent').show()"
   ]
  },
  {
   "cell_type": "code",
   "execution_count": 153,
   "metadata": {},
   "outputs": [],
   "source": [
    "spark.stop()"
   ]
  }
 ],
 "metadata": {
  "kernelspec": {
   "display_name": "Python 3",
   "language": "python",
   "name": "python3"
  },
  "language_info": {
   "codemirror_mode": {
    "name": "ipython",
    "version": 3
   },
   "file_extension": ".py",
   "mimetype": "text/x-python",
   "name": "python",
   "nbconvert_exporter": "python",
   "pygments_lexer": "ipython3",
   "version": "3.6.4"
  }
 },
 "nbformat": 4,
 "nbformat_minor": 2
}
